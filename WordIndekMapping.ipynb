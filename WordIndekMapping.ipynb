{
  "nbformat": 4,
  "nbformat_minor": 0,
  "metadata": {
    "colab": {
      "provenance": []
    },
    "kernelspec": {
      "name": "python3",
      "display_name": "Python 3"
    },
    "language_info": {
      "name": "python"
    }
  },
  "cells": [
    {
      "cell_type": "markdown",
      "source": [
        "*Word Index Mapping Explained*  \n",
        "\n",
        "*Word Index Mapping determines the order in which column names should appear.*\n",
        "\n",
        "1. It controls the sequence of words based on their position in the dataset.  \n",
        "2. By adjusting the order, we can prioritize the appearance of certain words.  \n",
        "\n",
        "# Let's explore how to achieve this effectively. 🚀\n"
      ],
      "metadata": {
        "id": "mYD-d8x_VZtv"
      }
    },
    {
      "cell_type": "code",
      "source": [
        "import nltk\n",
        "\n",
        "# Specify the download location\n",
        "nltk.download('punkt', download_dir='/root/nltk_data')"
      ],
      "metadata": {
        "colab": {
          "base_uri": "https://localhost:8080/"
        },
        "id": "rO_neGHNbo8x",
        "outputId": "f32a9618-6991-49b9-ffe6-ff3456d067fb"
      },
      "execution_count": 10,
      "outputs": [
        {
          "output_type": "stream",
          "name": "stderr",
          "text": [
            "[nltk_data] Downloading package punkt to /root/nltk_data...\n",
            "[nltk_data]   Package punkt is already up-to-date!\n"
          ]
        },
        {
          "output_type": "execute_result",
          "data": {
            "text/plain": [
              "True"
            ]
          },
          "metadata": {},
          "execution_count": 10
        }
      ]
    },
    {
      "cell_type": "code",
      "source": [
        "import nltk\n",
        "nltk.download('punkt')\n",
        "nltk.download('punkt_tab')\n"
      ],
      "metadata": {
        "colab": {
          "base_uri": "https://localhost:8080/"
        },
        "id": "0l7DqAtib_Cq",
        "outputId": "f2dc1136-a93a-47bf-e7cb-8dd594672d4b"
      },
      "execution_count": 11,
      "outputs": [
        {
          "output_type": "stream",
          "name": "stderr",
          "text": [
            "[nltk_data] Downloading package punkt to /root/nltk_data...\n",
            "[nltk_data]   Package punkt is already up-to-date!\n",
            "[nltk_data] Downloading package punkt_tab to /root/nltk_data...\n",
            "[nltk_data]   Unzipping tokenizers/punkt_tab.zip.\n"
          ]
        },
        {
          "output_type": "execute_result",
          "data": {
            "text/plain": [
              "True"
            ]
          },
          "metadata": {},
          "execution_count": 11
        }
      ]
    },
    {
      "cell_type": "code",
      "source": [
        "import nltk\n",
        "from nltk.tokenize import word_tokenize\n",
        "\n",
        "\n",
        "# Sample documents\n",
        "documents = [\n",
        "    \"I LIKE CATS\",\n",
        "    \"I LOVE CATS\",\n",
        "    \"I LOVE DOGS\"\n",
        "]\n",
        "\n",
        "current_idx = 0  # Initializing the current index to 0\n",
        "word2idx = {}  # Empty dictionary to store word-index mapping\n",
        "\n",
        "# Loop through documents\n",
        "for doc in documents:\n",
        "    tokens = word_tokenize(doc)  # Tokenize the document\n",
        "    for token in tokens:\n",
        "        if token not in word2idx:\n",
        "            word2idx[token] = current_idx  # Assign an index to the token\n",
        "            current_idx += 1\n",
        "\n",
        "# Print the word-to-index mapping\n",
        "print(word2idx)\n"
      ],
      "metadata": {
        "colab": {
          "base_uri": "https://localhost:8080/"
        },
        "id": "aYdv6E6BVje5",
        "outputId": "399ae395-a79f-4e66-f30c-de8e5365fcb4"
      },
      "execution_count": 13,
      "outputs": [
        {
          "output_type": "stream",
          "name": "stdout",
          "text": [
            "{'I': 0, 'LIKE': 1, 'CATS': 2, 'LOVE': 3, 'DOGS': 4}\n"
          ]
        }
      ]
    },
    {
      "cell_type": "code",
      "source": [],
      "metadata": {
        "id": "fZVZw64ebVHU"
      },
      "execution_count": null,
      "outputs": []
    }
  ]
}