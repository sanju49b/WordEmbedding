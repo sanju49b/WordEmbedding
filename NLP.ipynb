{
  "nbformat": 4,
  "nbformat_minor": 0,
  "metadata": {
    "colab": {
      "provenance": []
    },
    "kernelspec": {
      "name": "python3",
      "display_name": "Python 3"
    },
    "language_info": {
      "name": "python"
    }
  },
  "cells": [
    {
      "cell_type": "markdown",
      "source": [
        "###Function of CountVectorizer in Scikit-Learn\n",
        "\n",
        "*CountVectorizer is used to convert text data into a numerical representation. It tokenizes the text, builds a vocabulary of unique words, and transforms each document into a vector where each element represents the count of a word in that document.*\n",
        "\n",
        "*How It Works:\n",
        "Tokenization → Splits text into words (tokens).\n",
        "Vocabulary Building → Creates a dictionary of unique words across the corpus.\n",
        "Encoding → Converts each document into a vector based on word occurrences.*"
      ],
      "metadata": {
        "id": "BTa-x3zdBR_O"
      }
    },
    {
      "cell_type": "code",
      "execution_count": 128,
      "metadata": {
        "id": "KAhmDx9lAlVx"
      },
      "outputs": [],
      "source": [
        "import sklearn"
      ]
    },
    {
      "cell_type": "code",
      "source": [
        "from sklearn.feature_extraction.text import CountVectorizer\n",
        "\n",
        "corpus = [\n",
        "    \"Machine learning is amazing\",\n",
        "    \"Natural Language Processing makes machines understand text\",\n",
        "    \"CountVectorizer converts text to a matrix of token counts\"\n",
        "]\n",
        "\n",
        "# Initializing CountVectorizer with stop words removal\n",
        "vectorizer = CountVectorizer(stop_words=\"english\")\n",
        "\n",
        "# Fit and transform the text data\n",
        "X = vectorizer.fit_transform(corpus)\n",
        "\n",
        "# Get the vocabulary (unique words after removing stop words)\n",
        "print(vectorizer.get_feature_names_out())\n",
        "\n",
        "# Convert sparse matrix to dense array and print\n",
        "print(X.toarray())\n"
      ],
      "metadata": {
        "colab": {
          "base_uri": "https://localhost:8080/"
        },
        "id": "Hhm7lKfwAyeU",
        "outputId": "19df0b15-c767-48d4-cccf-88f7ffa0abd6"
      },
      "execution_count": 129,
      "outputs": [
        {
          "output_type": "stream",
          "name": "stdout",
          "text": [
            "['amazing' 'converts' 'counts' 'countvectorizer' 'language' 'learning'\n",
            " 'machine' 'machines' 'makes' 'matrix' 'natural' 'processing' 'text'\n",
            " 'token' 'understand']\n",
            "[[1 0 0 0 0 1 1 0 0 0 0 0 0 0 0]\n",
            " [0 0 0 0 1 0 0 1 1 0 1 1 1 0 1]\n",
            " [0 1 1 1 0 0 0 0 0 1 0 0 1 1 0]]\n"
          ]
        }
      ]
    },
    {
      "cell_type": "markdown",
      "source": [
        "How CountVectorizer (Bag of Words) Works:\n",
        "\n",
        "*Create a vocabulary → Extract all unique words from the text corpus.*\n",
        "\n",
        "*Ignore stop words (like is, to, a, etc.) if specified.*\n",
        "\n",
        "*Convert sentences into vectors → Each sentence is mapped to a vector where:\n",
        "Each column represents a unique word.\n",
        "Each row represents a sentence.*\n",
        "\n",
        "*The value is 1 if the word appears in the sentence, otherwise 0 (or a count if appearing multiple times).*"
      ],
      "metadata": {
        "id": "yyQYDBYaCJw8"
      }
    },
    {
      "cell_type": "markdown",
      "source": [
        "NLTK STOPWORDS"
      ],
      "metadata": {
        "id": "9woLP2kFDfUk"
      }
    },
    {
      "cell_type": "code",
      "source": [
        "import nltk\n",
        "nltk.download('stopwords')\n",
        "from nltk.corpus import stopwords\n",
        "from sklearn.feature_extraction.text import CountVectorizer"
      ],
      "metadata": {
        "colab": {
          "base_uri": "https://localhost:8080/"
        },
        "id": "7KYtTOotESW4",
        "outputId": "b75f7423-edfc-4325-e5d0-f0274e798e92"
      },
      "execution_count": 130,
      "outputs": [
        {
          "output_type": "stream",
          "name": "stderr",
          "text": [
            "[nltk_data] Downloading package stopwords to /root/nltk_data...\n",
            "[nltk_data]   Package stopwords is already up-to-date!\n"
          ]
        }
      ]
    },
    {
      "cell_type": "code",
      "source": [
        "sentence = \"Machine learning is amazing and it is the future of AI!\"\n"
      ],
      "metadata": {
        "id": "2WS5nfUmErnV"
      },
      "execution_count": 131,
      "outputs": []
    },
    {
      "cell_type": "code",
      "source": [
        "words=sentence.split()"
      ],
      "metadata": {
        "id": "BNhC6mlzEtKa"
      },
      "execution_count": 132,
      "outputs": []
    },
    {
      "cell_type": "code",
      "source": [
        "print(words)"
      ],
      "metadata": {
        "colab": {
          "base_uri": "https://localhost:8080/"
        },
        "id": "imZDpWcaEv3l",
        "outputId": "60d3cf55-fade-4089-fcca-24ce049eb2c2"
      },
      "execution_count": 133,
      "outputs": [
        {
          "output_type": "stream",
          "name": "stdout",
          "text": [
            "['Machine', 'learning', 'is', 'amazing', 'and', 'it', 'is', 'the', 'future', 'of', 'AI!']\n"
          ]
        }
      ]
    },
    {
      "cell_type": "code",
      "source": [
        "filter_words=[word.lower() for word in words if word.lower() not in stopwords.words('english')]"
      ],
      "metadata": {
        "id": "gV9lwvy-E0rq"
      },
      "execution_count": 134,
      "outputs": []
    },
    {
      "cell_type": "code",
      "source": [
        "cleaned_sentence = \" \".join(filter_words)"
      ],
      "metadata": {
        "id": "IcvA-7KtF9_w"
      },
      "execution_count": 135,
      "outputs": []
    },
    {
      "cell_type": "code",
      "source": [
        "filter_words"
      ],
      "metadata": {
        "colab": {
          "base_uri": "https://localhost:8080/"
        },
        "id": "XmdwYpz4E_H6",
        "outputId": "e0e03bf7-1631-4779-f4e4-59d852f3a5e7"
      },
      "execution_count": 136,
      "outputs": [
        {
          "output_type": "execute_result",
          "data": {
            "text/plain": [
              "['machine', 'learning', 'amazing', 'future', 'ai!']"
            ]
          },
          "metadata": {},
          "execution_count": 136
        }
      ]
    },
    {
      "cell_type": "code",
      "source": [
        "vectorizer=CountVectorizer()"
      ],
      "metadata": {
        "id": "52ApWf6WFFyo"
      },
      "execution_count": 137,
      "outputs": []
    },
    {
      "cell_type": "code",
      "source": [
        "vectorizer_output=vectorizer.fit_transform([cleaned_sentence])"
      ],
      "metadata": {
        "id": "e4lgzA7yFKzv"
      },
      "execution_count": 138,
      "outputs": []
    },
    {
      "cell_type": "code",
      "source": [
        "print(vectorizer_output.toarray())\n"
      ],
      "metadata": {
        "colab": {
          "base_uri": "https://localhost:8080/"
        },
        "id": "RxJi0-dmFNhh",
        "outputId": "e6be5835-c7e7-4202-f238-d0f70ebc4563"
      },
      "execution_count": 139,
      "outputs": [
        {
          "output_type": "stream",
          "name": "stdout",
          "text": [
            "[[1 1 1 1 1]]\n"
          ]
        }
      ]
    },
    {
      "cell_type": "markdown",
      "source": [
        "###Lets Learn about stemming and lemmatization\n"
      ],
      "metadata": {
        "id": "OUycDldVTxzr"
      }
    },
    {
      "cell_type": "markdown",
      "source": [
        "*Stemming: PorterStemmer*\n",
        "\n",
        "*from nltk.stem import WordNetLemmatizer*\n"
      ],
      "metadata": {
        "id": "bAObRznWT_EX"
      }
    },
    {
      "cell_type": "markdown",
      "source": [
        "#More About stemming"
      ],
      "metadata": {
        "id": "lm8BDATgVNz7"
      }
    },
    {
      "cell_type": "code",
      "source": [
        "from nltk.stem import PorterStemmer\n",
        "porter=PorterStemmer()\n",
        "porter.stem(\"walking\")"
      ],
      "metadata": {
        "colab": {
          "base_uri": "https://localhost:8080/",
          "height": 36
        },
        "id": "PvhqKb-BVR53",
        "outputId": "d797eb0a-70f9-4522-bb68-c23b1f8a8282"
      },
      "execution_count": 140,
      "outputs": [
        {
          "output_type": "execute_result",
          "data": {
            "text/plain": [
              "'walk'"
            ],
            "application/vnd.google.colaboratory.intrinsic+json": {
              "type": "string"
            }
          },
          "metadata": {},
          "execution_count": 140
        }
      ]
    },
    {
      "cell_type": "code",
      "source": [
        "porter.stem(\"Walks\")"
      ],
      "metadata": {
        "colab": {
          "base_uri": "https://localhost:8080/",
          "height": 36
        },
        "id": "GLl-RkQhVU0F",
        "outputId": "6cddad0d-4a89-461d-99a2-6e8ebade3503"
      },
      "execution_count": 141,
      "outputs": [
        {
          "output_type": "execute_result",
          "data": {
            "text/plain": [
              "'walk'"
            ],
            "application/vnd.google.colaboratory.intrinsic+json": {
              "type": "string"
            }
          },
          "metadata": {},
          "execution_count": 141
        }
      ]
    },
    {
      "cell_type": "code",
      "source": [
        "porter.stem(\"walked\")"
      ],
      "metadata": {
        "colab": {
          "base_uri": "https://localhost:8080/",
          "height": 36
        },
        "id": "tDEEMBuRVkVY",
        "outputId": "3402342d-b94c-49cb-8119-ef44a6f5faf1"
      },
      "execution_count": 142,
      "outputs": [
        {
          "output_type": "execute_result",
          "data": {
            "text/plain": [
              "'walk'"
            ],
            "application/vnd.google.colaboratory.intrinsic+json": {
              "type": "string"
            }
          },
          "metadata": {},
          "execution_count": 142
        }
      ]
    },
    {
      "cell_type": "code",
      "source": [
        "porter.stem(\"ran\")\n",
        "#no rule for this particular kind of word as ran base word should be run"
      ],
      "metadata": {
        "colab": {
          "base_uri": "https://localhost:8080/",
          "height": 36
        },
        "id": "6uUPbrW9VlZI",
        "outputId": "d8580cbe-cf0f-4d17-9868-11831df996de"
      },
      "execution_count": 143,
      "outputs": [
        {
          "output_type": "execute_result",
          "data": {
            "text/plain": [
              "'ran'"
            ],
            "application/vnd.google.colaboratory.intrinsic+json": {
              "type": "string"
            }
          },
          "metadata": {},
          "execution_count": 143
        }
      ]
    },
    {
      "cell_type": "code",
      "source": [
        "lemmatizer.lemmatize(\"ran\",pos=wordnet.VERB)"
      ],
      "metadata": {
        "colab": {
          "base_uri": "https://localhost:8080/",
          "height": 36
        },
        "id": "AnTc_Fr4Ytop",
        "outputId": "0dc2618b-3f6b-46fd-a599-89f98224f0c7"
      },
      "execution_count": 144,
      "outputs": [
        {
          "output_type": "execute_result",
          "data": {
            "text/plain": [
              "'run'"
            ],
            "application/vnd.google.colaboratory.intrinsic+json": {
              "type": "string"
            }
          },
          "metadata": {},
          "execution_count": 144
        }
      ]
    },
    {
      "cell_type": "markdown",
      "source": [
        "*The whole difference explained with a single example*"
      ],
      "metadata": {
        "id": "CXGQzeyaY4HR"
      }
    },
    {
      "cell_type": "code",
      "source": [
        "porter.stem(\"replacement\")\n",
        "#No real word is displayed"
      ],
      "metadata": {
        "colab": {
          "base_uri": "https://localhost:8080/",
          "height": 36
        },
        "id": "9DJ5LvNYVpY_",
        "outputId": "75a37d42-050e-4fd4-8c19-e4a5a5166fbe"
      },
      "execution_count": 145,
      "outputs": [
        {
          "output_type": "execute_result",
          "data": {
            "text/plain": [
              "'replac'"
            ],
            "application/vnd.google.colaboratory.intrinsic+json": {
              "type": "string"
            }
          },
          "metadata": {},
          "execution_count": 145
        }
      ]
    },
    {
      "cell_type": "code",
      "source": [
        "#stemming an entire Sentence\n",
        "\n",
        "sentence= \"Lemmatization is more Sophisticated then Stemming\".split()"
      ],
      "metadata": {
        "id": "z0G4vXZFVy1_"
      },
      "execution_count": 146,
      "outputs": []
    },
    {
      "cell_type": "code",
      "source": [
        "for token in sentence:\n",
        "  print(porter.stem(token),end=\" \")\n",
        "# all of these were not real words"
      ],
      "metadata": {
        "colab": {
          "base_uri": "https://localhost:8080/"
        },
        "id": "efTwNLXzWFpw",
        "outputId": "fd772a66-d366-4d60-ba5c-07b94620540e"
      },
      "execution_count": 147,
      "outputs": [
        {
          "output_type": "stream",
          "name": "stdout",
          "text": [
            "lemmat is more sophist then stem "
          ]
        }
      ]
    },
    {
      "cell_type": "code",
      "source": [
        "porter.stem(\"berry\")\n",
        "#The final word was changed to berri, we should treat these 2 as one and similar"
      ],
      "metadata": {
        "colab": {
          "base_uri": "https://localhost:8080/",
          "height": 36
        },
        "id": "SOgeTTPcWQok",
        "outputId": "d3528509-6dee-4ebd-9d93-12c902b10632"
      },
      "execution_count": 148,
      "outputs": [
        {
          "output_type": "execute_result",
          "data": {
            "text/plain": [
              "'berri'"
            ],
            "application/vnd.google.colaboratory.intrinsic+json": {
              "type": "string"
            }
          },
          "metadata": {},
          "execution_count": 148
        }
      ]
    },
    {
      "cell_type": "markdown",
      "source": [
        "#Lemmitization"
      ],
      "metadata": {
        "id": "R-MLHrgYWq0J"
      }
    },
    {
      "cell_type": "code",
      "source": [
        "from nltk.stem import WordNetLemmatizer\n",
        "nltk.download(\"wordnet\")\n",
        "from nltk.corpus import wordnet\n"
      ],
      "metadata": {
        "id": "vpUSXiUTXr-u",
        "colab": {
          "base_uri": "https://localhost:8080/"
        },
        "outputId": "19f4a777-a8c6-4fd7-fd15-00f73e3804d2"
      },
      "execution_count": 149,
      "outputs": [
        {
          "output_type": "stream",
          "name": "stderr",
          "text": [
            "[nltk_data] Downloading package wordnet to /root/nltk_data...\n",
            "[nltk_data]   Package wordnet is already up-to-date!\n"
          ]
        }
      ]
    },
    {
      "cell_type": "code",
      "source": [
        "lemmatizer=WordNetLemmatizer()\n",
        "lemmatizer.lemmatize(\"going\")"
      ],
      "metadata": {
        "colab": {
          "base_uri": "https://localhost:8080/",
          "height": 36
        },
        "id": "HlfY04PXX58w",
        "outputId": "c2d03010-0971-48db-f30a-af665a6ab7eb"
      },
      "execution_count": 150,
      "outputs": [
        {
          "output_type": "execute_result",
          "data": {
            "text/plain": [
              "'going'"
            ],
            "application/vnd.google.colaboratory.intrinsic+json": {
              "type": "string"
            }
          },
          "metadata": {},
          "execution_count": 150
        }
      ]
    },
    {
      "cell_type": "code",
      "source": [
        "lemmatizer.lemmatize(\"going\",pos=wordnet.VERB)"
      ],
      "metadata": {
        "colab": {
          "base_uri": "https://localhost:8080/",
          "height": 36
        },
        "id": "kELGwZIqYBIp",
        "outputId": "3f02ae91-bf69-436d-f89d-0bc6ae53a946"
      },
      "execution_count": 151,
      "outputs": [
        {
          "output_type": "execute_result",
          "data": {
            "text/plain": [
              "'go'"
            ],
            "application/vnd.google.colaboratory.intrinsic+json": {
              "type": "string"
            }
          },
          "metadata": {},
          "execution_count": 151
        }
      ]
    },
    {
      "cell_type": "code",
      "source": [
        "#NLTK's WordNet Lemmatizer, we use wordnet.VERB\n",
        "#(or other POS tags like wordnet.NOUN, wordnet.ADJ, etc.)\n",
        "#to specify the part of speech (POS). This helps get more accurate lemmas"
      ],
      "metadata": {
        "id": "4kEd6m_MYFvL"
      },
      "execution_count": 152,
      "outputs": []
    },
    {
      "cell_type": "code",
      "source": [
        "porter.stem(\"better\")"
      ],
      "metadata": {
        "colab": {
          "base_uri": "https://localhost:8080/",
          "height": 36
        },
        "id": "bXRAP8lqYkiR",
        "outputId": "90ce9521-e2be-4b02-94df-1cd213744755"
      },
      "execution_count": 153,
      "outputs": [
        {
          "output_type": "execute_result",
          "data": {
            "text/plain": [
              "'better'"
            ],
            "application/vnd.google.colaboratory.intrinsic+json": {
              "type": "string"
            }
          },
          "metadata": {},
          "execution_count": 153
        }
      ]
    },
    {
      "cell_type": "code",
      "source": [
        "lemmatizer.lemmatize(\"better\",pos=wordnet.ADJ)"
      ],
      "metadata": {
        "colab": {
          "base_uri": "https://localhost:8080/",
          "height": 36
        },
        "id": "vIPCcFdEZEi_",
        "outputId": "dfda3da9-eb12-4cd6-cea7-a55f24f47b93"
      },
      "execution_count": 154,
      "outputs": [
        {
          "output_type": "execute_result",
          "data": {
            "text/plain": [
              "'good'"
            ],
            "application/vnd.google.colaboratory.intrinsic+json": {
              "type": "string"
            }
          },
          "metadata": {},
          "execution_count": 154
        }
      ]
    },
    {
      "cell_type": "markdown",
      "source": [
        "#*We cannot actually tag parts of speech for each and every word so lets look at how to do this manually*"
      ],
      "metadata": {
        "id": "NBo96LP-ZSM2"
      }
    },
    {
      "cell_type": "code",
      "source": [
        "from nltk.corpus import wordnet  # Import WordNet from NLTK\n",
        "\n",
        "def get_wordnet_pos(treebank_tag):\n",
        "    \"\"\"\n",
        "    Converts Penn Treebank POS tags to WordNet POS tags.\n",
        "\n",
        "    Parameters:\n",
        "    treebank_tag (str): POS tag from Penn Treebank.\n",
        "\n",
        "    Returns:\n",
        "    wordnet.POS: Corresponding WordNet POS tag.\n",
        "    \"\"\"\n",
        "\n",
        "    # If the tag starts with 'J', it represents an adjective (JJ, JJR, JJS)\n",
        "    if treebank_tag.startswith('J'):\n",
        "        return wordnet.ADJ  # Return WordNet's adjective tag\n",
        "\n",
        "    # If the tag starts with 'V', it represents a verb (VB, VBD, VBG, VBN, VBP, VBZ)\n",
        "    elif treebank_tag.startswith('V'):\n",
        "        return wordnet.VERB  # Return WordNet's verb tag\n",
        "\n",
        "    # If the tag starts with 'N', it represents a noun (NN, NNS, NNP, NNPS)\n",
        "    elif treebank_tag.startswith('N'):\n",
        "        return wordnet.NOUN  # Return WordNet's noun tag\n",
        "\n",
        "    # If the tag starts with 'R', it represents an adverb (RB, RBR, RBS)\n",
        "    elif treebank_tag.startswith('R'):\n",
        "        return wordnet.ADV  # Return WordNet's adverb tag\n",
        "\n",
        "    # If the tag does not match any of the above categories, default to noun\n",
        "    else:\n",
        "        return wordnet.NOUN  # Default to noun (most common category)\n"
      ],
      "metadata": {
        "id": "27knn8TaZHZ1"
      },
      "execution_count": 155,
      "outputs": []
    },
    {
      "cell_type": "markdown",
      "source": [
        "#Lets Look out for CountVectorizer"
      ],
      "metadata": {
        "id": "Ej_wP8s9dDmj"
      }
    },
    {
      "cell_type": "code",
      "source": [
        "# Import necessary libraries\n",
        "import numpy as np  # NumPy for numerical operations\n",
        "import pandas as pd  # Pandas for handling datasets\n",
        "\n",
        "# Import CountVectorizer to convert text into numerical vectors\n",
        "from sklearn.feature_extraction.text import CountVectorizer\n",
        "\n",
        "# Import Multinomial Naive Bayes classifier for text classification\n",
        "from sklearn.naive_bayes import MultinomialNB\n",
        "\n",
        "# Import train_test_split to split data into training and testing sets\n",
        "from sklearn.model_selection import train_test_split\n",
        "\n",
        "# Import Natural Language Toolkit (NLTK) for text processing\n",
        "import nltk\n",
        "\n",
        "# Import word tokenizer from NLTK for breaking text into words\n",
        "from nltk import word_tokenize\n",
        "\n",
        "# Import WordNetLemmatizer for lemmatization (reducing words to their base form)\n",
        "# Import PorterStemmer for stemming (removing word suffixes to get root word)\n",
        "from nltk.stem import WordNetLemmatizer, PorterStemmer\n",
        "\n",
        "# Import WordNet corpus from NLTK, which serves as a lexical database for lemmatization\n",
        "from nltk.corpus import wordnet\n",
        "\n",
        "# Download necessary NLTK datasets\n",
        "nltk.download(\"wordnet\")  # WordNet is required for lemmatization\n",
        "nltk.download('punkt')  # Punkt tokenizer is required for tokenizing sentences\n",
        "nltk.download('averaged_perceptron_tagger')  # POS tagging model for identifying word categories\n"
      ],
      "metadata": {
        "colab": {
          "base_uri": "https://localhost:8080/"
        },
        "id": "_h0igjvnejW0",
        "outputId": "f367a90e-bb0e-4799-f4b9-d6f1fbec731e"
      },
      "execution_count": 156,
      "outputs": [
        {
          "output_type": "stream",
          "name": "stderr",
          "text": [
            "[nltk_data] Downloading package wordnet to /root/nltk_data...\n",
            "[nltk_data]   Package wordnet is already up-to-date!\n",
            "[nltk_data] Downloading package punkt to /root/nltk_data...\n",
            "[nltk_data]   Package punkt is already up-to-date!\n",
            "[nltk_data] Downloading package averaged_perceptron_tagger to\n",
            "[nltk_data]     /root/nltk_data...\n",
            "[nltk_data]   Package averaged_perceptron_tagger is already up-to-\n",
            "[nltk_data]       date!\n"
          ]
        },
        {
          "output_type": "execute_result",
          "data": {
            "text/plain": [
              "True"
            ]
          },
          "metadata": {},
          "execution_count": 156
        }
      ]
    },
    {
      "cell_type": "code",
      "source": [
        "nltk.download('punkt')\n"
      ],
      "metadata": {
        "colab": {
          "base_uri": "https://localhost:8080/"
        },
        "id": "vqb6NZvMNksu",
        "outputId": "ca825039-8e0e-42f7-a19b-2cb2f395954c"
      },
      "execution_count": 157,
      "outputs": [
        {
          "output_type": "stream",
          "name": "stderr",
          "text": [
            "[nltk_data] Downloading package punkt to /root/nltk_data...\n",
            "[nltk_data]   Package punkt is already up-to-date!\n"
          ]
        },
        {
          "output_type": "execute_result",
          "data": {
            "text/plain": [
              "True"
            ]
          },
          "metadata": {},
          "execution_count": 157
        }
      ]
    },
    {
      "cell_type": "code",
      "source": [
        "# https://www.kaggle.com/shivamkushwaha/bbc-full-text-document-classification\n",
        "!wget -nc https://lazyprogrammer.me/course_files/nlp/bbc_text_cls.csv"
      ],
      "metadata": {
        "colab": {
          "base_uri": "https://localhost:8080/"
        },
        "id": "qhxeDKs7g-xC",
        "outputId": "937609cd-a2a3-4dea-8eee-30532dd625fd"
      },
      "execution_count": 158,
      "outputs": [
        {
          "output_type": "stream",
          "name": "stdout",
          "text": [
            "File ‘bbc_text_cls.csv’ already there; not retrieving.\n",
            "\n"
          ]
        }
      ]
    },
    {
      "cell_type": "code",
      "source": [
        "df=pd.read_csv('bbc_text_cls.csv')"
      ],
      "metadata": {
        "id": "iKN1cf93-sNl"
      },
      "execution_count": 159,
      "outputs": []
    },
    {
      "cell_type": "code",
      "source": [
        "df"
      ],
      "metadata": {
        "colab": {
          "base_uri": "https://localhost:8080/",
          "height": 423
        },
        "id": "dpWQD3Ch-yUk",
        "outputId": "ab82a22d-030a-4c96-dc0d-f47a543c4f6d"
      },
      "execution_count": 160,
      "outputs": [
        {
          "output_type": "execute_result",
          "data": {
            "text/plain": [
              "                                                   text    labels\n",
              "0     Ad sales boost Time Warner profit\\n\\nQuarterly...  business\n",
              "1     Dollar gains on Greenspan speech\\n\\nThe dollar...  business\n",
              "2     Yukos unit buyer faces loan claim\\n\\nThe owner...  business\n",
              "3     High fuel prices hit BA's profits\\n\\nBritish A...  business\n",
              "4     Pernod takeover talk lifts Domecq\\n\\nShares in...  business\n",
              "...                                                 ...       ...\n",
              "2220  BT program to beat dialler scams\\n\\nBT is intr...      tech\n",
              "2221  Spam e-mails tempt net shoppers\\n\\nComputer us...      tech\n",
              "2222  Be careful how you code\\n\\nA new European dire...      tech\n",
              "2223  US cyber security chief resigns\\n\\nThe man mak...      tech\n",
              "2224  Losing yourself in online gaming\\n\\nOnline rol...      tech\n",
              "\n",
              "[2225 rows x 2 columns]"
            ],
            "text/html": [
              "\n",
              "  <div id=\"df-ad815026-b7be-4e0a-a666-0fe8b8dc740f\" class=\"colab-df-container\">\n",
              "    <div>\n",
              "<style scoped>\n",
              "    .dataframe tbody tr th:only-of-type {\n",
              "        vertical-align: middle;\n",
              "    }\n",
              "\n",
              "    .dataframe tbody tr th {\n",
              "        vertical-align: top;\n",
              "    }\n",
              "\n",
              "    .dataframe thead th {\n",
              "        text-align: right;\n",
              "    }\n",
              "</style>\n",
              "<table border=\"1\" class=\"dataframe\">\n",
              "  <thead>\n",
              "    <tr style=\"text-align: right;\">\n",
              "      <th></th>\n",
              "      <th>text</th>\n",
              "      <th>labels</th>\n",
              "    </tr>\n",
              "  </thead>\n",
              "  <tbody>\n",
              "    <tr>\n",
              "      <th>0</th>\n",
              "      <td>Ad sales boost Time Warner profit\\n\\nQuarterly...</td>\n",
              "      <td>business</td>\n",
              "    </tr>\n",
              "    <tr>\n",
              "      <th>1</th>\n",
              "      <td>Dollar gains on Greenspan speech\\n\\nThe dollar...</td>\n",
              "      <td>business</td>\n",
              "    </tr>\n",
              "    <tr>\n",
              "      <th>2</th>\n",
              "      <td>Yukos unit buyer faces loan claim\\n\\nThe owner...</td>\n",
              "      <td>business</td>\n",
              "    </tr>\n",
              "    <tr>\n",
              "      <th>3</th>\n",
              "      <td>High fuel prices hit BA's profits\\n\\nBritish A...</td>\n",
              "      <td>business</td>\n",
              "    </tr>\n",
              "    <tr>\n",
              "      <th>4</th>\n",
              "      <td>Pernod takeover talk lifts Domecq\\n\\nShares in...</td>\n",
              "      <td>business</td>\n",
              "    </tr>\n",
              "    <tr>\n",
              "      <th>...</th>\n",
              "      <td>...</td>\n",
              "      <td>...</td>\n",
              "    </tr>\n",
              "    <tr>\n",
              "      <th>2220</th>\n",
              "      <td>BT program to beat dialler scams\\n\\nBT is intr...</td>\n",
              "      <td>tech</td>\n",
              "    </tr>\n",
              "    <tr>\n",
              "      <th>2221</th>\n",
              "      <td>Spam e-mails tempt net shoppers\\n\\nComputer us...</td>\n",
              "      <td>tech</td>\n",
              "    </tr>\n",
              "    <tr>\n",
              "      <th>2222</th>\n",
              "      <td>Be careful how you code\\n\\nA new European dire...</td>\n",
              "      <td>tech</td>\n",
              "    </tr>\n",
              "    <tr>\n",
              "      <th>2223</th>\n",
              "      <td>US cyber security chief resigns\\n\\nThe man mak...</td>\n",
              "      <td>tech</td>\n",
              "    </tr>\n",
              "    <tr>\n",
              "      <th>2224</th>\n",
              "      <td>Losing yourself in online gaming\\n\\nOnline rol...</td>\n",
              "      <td>tech</td>\n",
              "    </tr>\n",
              "  </tbody>\n",
              "</table>\n",
              "<p>2225 rows × 2 columns</p>\n",
              "</div>\n",
              "    <div class=\"colab-df-buttons\">\n",
              "\n",
              "  <div class=\"colab-df-container\">\n",
              "    <button class=\"colab-df-convert\" onclick=\"convertToInteractive('df-ad815026-b7be-4e0a-a666-0fe8b8dc740f')\"\n",
              "            title=\"Convert this dataframe to an interactive table.\"\n",
              "            style=\"display:none;\">\n",
              "\n",
              "  <svg xmlns=\"http://www.w3.org/2000/svg\" height=\"24px\" viewBox=\"0 -960 960 960\">\n",
              "    <path d=\"M120-120v-720h720v720H120Zm60-500h600v-160H180v160Zm220 220h160v-160H400v160Zm0 220h160v-160H400v160ZM180-400h160v-160H180v160Zm440 0h160v-160H620v160ZM180-180h160v-160H180v160Zm440 0h160v-160H620v160Z\"/>\n",
              "  </svg>\n",
              "    </button>\n",
              "\n",
              "  <style>\n",
              "    .colab-df-container {\n",
              "      display:flex;\n",
              "      gap: 12px;\n",
              "    }\n",
              "\n",
              "    .colab-df-convert {\n",
              "      background-color: #E8F0FE;\n",
              "      border: none;\n",
              "      border-radius: 50%;\n",
              "      cursor: pointer;\n",
              "      display: none;\n",
              "      fill: #1967D2;\n",
              "      height: 32px;\n",
              "      padding: 0 0 0 0;\n",
              "      width: 32px;\n",
              "    }\n",
              "\n",
              "    .colab-df-convert:hover {\n",
              "      background-color: #E2EBFA;\n",
              "      box-shadow: 0px 1px 2px rgba(60, 64, 67, 0.3), 0px 1px 3px 1px rgba(60, 64, 67, 0.15);\n",
              "      fill: #174EA6;\n",
              "    }\n",
              "\n",
              "    .colab-df-buttons div {\n",
              "      margin-bottom: 4px;\n",
              "    }\n",
              "\n",
              "    [theme=dark] .colab-df-convert {\n",
              "      background-color: #3B4455;\n",
              "      fill: #D2E3FC;\n",
              "    }\n",
              "\n",
              "    [theme=dark] .colab-df-convert:hover {\n",
              "      background-color: #434B5C;\n",
              "      box-shadow: 0px 1px 3px 1px rgba(0, 0, 0, 0.15);\n",
              "      filter: drop-shadow(0px 1px 2px rgba(0, 0, 0, 0.3));\n",
              "      fill: #FFFFFF;\n",
              "    }\n",
              "  </style>\n",
              "\n",
              "    <script>\n",
              "      const buttonEl =\n",
              "        document.querySelector('#df-ad815026-b7be-4e0a-a666-0fe8b8dc740f button.colab-df-convert');\n",
              "      buttonEl.style.display =\n",
              "        google.colab.kernel.accessAllowed ? 'block' : 'none';\n",
              "\n",
              "      async function convertToInteractive(key) {\n",
              "        const element = document.querySelector('#df-ad815026-b7be-4e0a-a666-0fe8b8dc740f');\n",
              "        const dataTable =\n",
              "          await google.colab.kernel.invokeFunction('convertToInteractive',\n",
              "                                                    [key], {});\n",
              "        if (!dataTable) return;\n",
              "\n",
              "        const docLinkHtml = 'Like what you see? Visit the ' +\n",
              "          '<a target=\"_blank\" href=https://colab.research.google.com/notebooks/data_table.ipynb>data table notebook</a>'\n",
              "          + ' to learn more about interactive tables.';\n",
              "        element.innerHTML = '';\n",
              "        dataTable['output_type'] = 'display_data';\n",
              "        await google.colab.output.renderOutput(dataTable, element);\n",
              "        const docLink = document.createElement('div');\n",
              "        docLink.innerHTML = docLinkHtml;\n",
              "        element.appendChild(docLink);\n",
              "      }\n",
              "    </script>\n",
              "  </div>\n",
              "\n",
              "\n",
              "<div id=\"df-7e87647f-b527-4185-9633-9f1b9e1de0bf\">\n",
              "  <button class=\"colab-df-quickchart\" onclick=\"quickchart('df-7e87647f-b527-4185-9633-9f1b9e1de0bf')\"\n",
              "            title=\"Suggest charts\"\n",
              "            style=\"display:none;\">\n",
              "\n",
              "<svg xmlns=\"http://www.w3.org/2000/svg\" height=\"24px\"viewBox=\"0 0 24 24\"\n",
              "     width=\"24px\">\n",
              "    <g>\n",
              "        <path d=\"M19 3H5c-1.1 0-2 .9-2 2v14c0 1.1.9 2 2 2h14c1.1 0 2-.9 2-2V5c0-1.1-.9-2-2-2zM9 17H7v-7h2v7zm4 0h-2V7h2v10zm4 0h-2v-4h2v4z\"/>\n",
              "    </g>\n",
              "</svg>\n",
              "  </button>\n",
              "\n",
              "<style>\n",
              "  .colab-df-quickchart {\n",
              "      --bg-color: #E8F0FE;\n",
              "      --fill-color: #1967D2;\n",
              "      --hover-bg-color: #E2EBFA;\n",
              "      --hover-fill-color: #174EA6;\n",
              "      --disabled-fill-color: #AAA;\n",
              "      --disabled-bg-color: #DDD;\n",
              "  }\n",
              "\n",
              "  [theme=dark] .colab-df-quickchart {\n",
              "      --bg-color: #3B4455;\n",
              "      --fill-color: #D2E3FC;\n",
              "      --hover-bg-color: #434B5C;\n",
              "      --hover-fill-color: #FFFFFF;\n",
              "      --disabled-bg-color: #3B4455;\n",
              "      --disabled-fill-color: #666;\n",
              "  }\n",
              "\n",
              "  .colab-df-quickchart {\n",
              "    background-color: var(--bg-color);\n",
              "    border: none;\n",
              "    border-radius: 50%;\n",
              "    cursor: pointer;\n",
              "    display: none;\n",
              "    fill: var(--fill-color);\n",
              "    height: 32px;\n",
              "    padding: 0;\n",
              "    width: 32px;\n",
              "  }\n",
              "\n",
              "  .colab-df-quickchart:hover {\n",
              "    background-color: var(--hover-bg-color);\n",
              "    box-shadow: 0 1px 2px rgba(60, 64, 67, 0.3), 0 1px 3px 1px rgba(60, 64, 67, 0.15);\n",
              "    fill: var(--button-hover-fill-color);\n",
              "  }\n",
              "\n",
              "  .colab-df-quickchart-complete:disabled,\n",
              "  .colab-df-quickchart-complete:disabled:hover {\n",
              "    background-color: var(--disabled-bg-color);\n",
              "    fill: var(--disabled-fill-color);\n",
              "    box-shadow: none;\n",
              "  }\n",
              "\n",
              "  .colab-df-spinner {\n",
              "    border: 2px solid var(--fill-color);\n",
              "    border-color: transparent;\n",
              "    border-bottom-color: var(--fill-color);\n",
              "    animation:\n",
              "      spin 1s steps(1) infinite;\n",
              "  }\n",
              "\n",
              "  @keyframes spin {\n",
              "    0% {\n",
              "      border-color: transparent;\n",
              "      border-bottom-color: var(--fill-color);\n",
              "      border-left-color: var(--fill-color);\n",
              "    }\n",
              "    20% {\n",
              "      border-color: transparent;\n",
              "      border-left-color: var(--fill-color);\n",
              "      border-top-color: var(--fill-color);\n",
              "    }\n",
              "    30% {\n",
              "      border-color: transparent;\n",
              "      border-left-color: var(--fill-color);\n",
              "      border-top-color: var(--fill-color);\n",
              "      border-right-color: var(--fill-color);\n",
              "    }\n",
              "    40% {\n",
              "      border-color: transparent;\n",
              "      border-right-color: var(--fill-color);\n",
              "      border-top-color: var(--fill-color);\n",
              "    }\n",
              "    60% {\n",
              "      border-color: transparent;\n",
              "      border-right-color: var(--fill-color);\n",
              "    }\n",
              "    80% {\n",
              "      border-color: transparent;\n",
              "      border-right-color: var(--fill-color);\n",
              "      border-bottom-color: var(--fill-color);\n",
              "    }\n",
              "    90% {\n",
              "      border-color: transparent;\n",
              "      border-bottom-color: var(--fill-color);\n",
              "    }\n",
              "  }\n",
              "</style>\n",
              "\n",
              "  <script>\n",
              "    async function quickchart(key) {\n",
              "      const quickchartButtonEl =\n",
              "        document.querySelector('#' + key + ' button');\n",
              "      quickchartButtonEl.disabled = true;  // To prevent multiple clicks.\n",
              "      quickchartButtonEl.classList.add('colab-df-spinner');\n",
              "      try {\n",
              "        const charts = await google.colab.kernel.invokeFunction(\n",
              "            'suggestCharts', [key], {});\n",
              "      } catch (error) {\n",
              "        console.error('Error during call to suggestCharts:', error);\n",
              "      }\n",
              "      quickchartButtonEl.classList.remove('colab-df-spinner');\n",
              "      quickchartButtonEl.classList.add('colab-df-quickchart-complete');\n",
              "    }\n",
              "    (() => {\n",
              "      let quickchartButtonEl =\n",
              "        document.querySelector('#df-7e87647f-b527-4185-9633-9f1b9e1de0bf button');\n",
              "      quickchartButtonEl.style.display =\n",
              "        google.colab.kernel.accessAllowed ? 'block' : 'none';\n",
              "    })();\n",
              "  </script>\n",
              "</div>\n",
              "\n",
              "  <div id=\"id_e527edd5-76e0-44cf-abf4-a573121bdce7\">\n",
              "    <style>\n",
              "      .colab-df-generate {\n",
              "        background-color: #E8F0FE;\n",
              "        border: none;\n",
              "        border-radius: 50%;\n",
              "        cursor: pointer;\n",
              "        display: none;\n",
              "        fill: #1967D2;\n",
              "        height: 32px;\n",
              "        padding: 0 0 0 0;\n",
              "        width: 32px;\n",
              "      }\n",
              "\n",
              "      .colab-df-generate:hover {\n",
              "        background-color: #E2EBFA;\n",
              "        box-shadow: 0px 1px 2px rgba(60, 64, 67, 0.3), 0px 1px 3px 1px rgba(60, 64, 67, 0.15);\n",
              "        fill: #174EA6;\n",
              "      }\n",
              "\n",
              "      [theme=dark] .colab-df-generate {\n",
              "        background-color: #3B4455;\n",
              "        fill: #D2E3FC;\n",
              "      }\n",
              "\n",
              "      [theme=dark] .colab-df-generate:hover {\n",
              "        background-color: #434B5C;\n",
              "        box-shadow: 0px 1px 3px 1px rgba(0, 0, 0, 0.15);\n",
              "        filter: drop-shadow(0px 1px 2px rgba(0, 0, 0, 0.3));\n",
              "        fill: #FFFFFF;\n",
              "      }\n",
              "    </style>\n",
              "    <button class=\"colab-df-generate\" onclick=\"generateWithVariable('df')\"\n",
              "            title=\"Generate code using this dataframe.\"\n",
              "            style=\"display:none;\">\n",
              "\n",
              "  <svg xmlns=\"http://www.w3.org/2000/svg\" height=\"24px\"viewBox=\"0 0 24 24\"\n",
              "       width=\"24px\">\n",
              "    <path d=\"M7,19H8.4L18.45,9,17,7.55,7,17.6ZM5,21V16.75L18.45,3.32a2,2,0,0,1,2.83,0l1.4,1.43a1.91,1.91,0,0,1,.58,1.4,1.91,1.91,0,0,1-.58,1.4L9.25,21ZM18.45,9,17,7.55Zm-12,3A5.31,5.31,0,0,0,4.9,8.1,5.31,5.31,0,0,0,1,6.5,5.31,5.31,0,0,0,4.9,4.9,5.31,5.31,0,0,0,6.5,1,5.31,5.31,0,0,0,8.1,4.9,5.31,5.31,0,0,0,12,6.5,5.46,5.46,0,0,0,6.5,12Z\"/>\n",
              "  </svg>\n",
              "    </button>\n",
              "    <script>\n",
              "      (() => {\n",
              "      const buttonEl =\n",
              "        document.querySelector('#id_e527edd5-76e0-44cf-abf4-a573121bdce7 button.colab-df-generate');\n",
              "      buttonEl.style.display =\n",
              "        google.colab.kernel.accessAllowed ? 'block' : 'none';\n",
              "\n",
              "      buttonEl.onclick = () => {\n",
              "        google.colab.notebook.generateWithVariable('df');\n",
              "      }\n",
              "      })();\n",
              "    </script>\n",
              "  </div>\n",
              "\n",
              "    </div>\n",
              "  </div>\n"
            ],
            "application/vnd.google.colaboratory.intrinsic+json": {
              "type": "dataframe",
              "variable_name": "df",
              "summary": "{\n  \"name\": \"df\",\n  \"rows\": 2225,\n  \"fields\": [\n    {\n      \"column\": \"text\",\n      \"properties\": {\n        \"dtype\": \"string\",\n        \"num_unique_values\": 2127,\n        \"samples\": [\n          \"EU 'too slow' on economic reforms\\n\\nMost EU countries have failed to put in place policies aimed at making Europe the world's most competitive economy by the end of the decade, a report says.\\n\\nThe study, undertaken by the European Commission, sought to assess how far the EU has moved towards meeting its economic targets. In 2000, EU leaders at a summit in Lisbon pledged the European economy would outstrip that of the US by 2010. Their economic targets became known as the Lisbon Agenda. But the Commission report says that, in most EU countries, the pace of economic reform has been too slow, and fulfilling the Lisbon ambitions will be difficult - if not impossible.\\n\\nOnly the UK, Finland, Belgium, Denmark, Ireland and the Netherlands have actually followed up policy recommendations. Among the biggest laggards, according to the report, are Greece and Italy. The Lisbon Agenda set out to increase the number of people employed in Europe by encouraging more older people and women to stay in the workforce. It also set out to raise the amount the private sector spends on research and development, while bringing about greater discipline over public spending and debt levels. Combined with high environmental standards and efforts to level the playing field for businesses throughout the EU, the plan was for Europe to become the world's most dynamic economy by 2010. Next week, the Commission will present revised proposals to meet the Lisbon goals. Many people expect the 2010 target to be quietly dropped.\",\n          \"BBC web search aids odd queries\\n\\nThe BBC's online search engine was used a record amount in 2004, helping with enquires both simple and strange.\\n\\nMore than 277 million enquiries were made, asking for informaton of a wide range of subjects. The most requested search terms of 2004 included games, EastEnders, CBBC, John Peel, Harry Potter and Olympics. But there were many strange enquiries, including: what is a dog?, how do you say basketball? and what is the biggest collection of naval fluff? The search engine works by matching key words typed in to different web pages but many people still type in natural language questions. Here are some of the strangest queries of 2004 - spelling and grammar errors left untouched - and their possible solutions:\\n\\n\\n - How to fold a serviette like an elf's boot? \\n \\n\\n\\n - How do I structure a French letter? \\n \\n\\n\\n - What is better one long vacation each year or several short vacations throughout the year? \\n \\n\\n\\n - What is so special about the Swiss? \\n \\n\\n\\n - What are the contemporary issue in nurses? \\n \\n\\n\\n - What is the number 4 in this number 40052308090? \\n \\n\\n\\n - What is up? \\n \\n\\n\\n - What is the name of James Martin's dog? \\n \\n\\nSearch engines are key to the way people use the internet. Companies such as Google have become of paramount importance as they dictate how people travel through websites while online.\",\n          \"Serena becomes world number two\\n\\nSerena Williams has moved up five places to second in the world rankings after her Australian Open win.\\n\\nWilliams won her first Grand Slam title since 2003 with victory over Lindsay Davenport, the world number one. Men's champion Marat Safin remains fourth in the ATP rankings while beaten finalist Lleyton Hewitt replaces Andy Roddick as world number two. Roger Federer retains top spot, but Safin has overtaken Hewitt to become the new leader of the Champions Race. Alicia Molik, who lost a three-set thriller against Davenport in the quarter-finals, is in the women's top 10 for the first time in her career. Her rise means Australia have a player in the top 10 of the men's and women's rankings for the first time in 21 years. And Britain's Elena Baltacha, who qualified and then reached the third round, has risen to 120 in the world - a leap of 65 places and her highest ranking yet.\"\n        ],\n        \"semantic_type\": \"\",\n        \"description\": \"\"\n      }\n    },\n    {\n      \"column\": \"labels\",\n      \"properties\": {\n        \"dtype\": \"category\",\n        \"num_unique_values\": 5,\n        \"samples\": [\n          \"entertainment\",\n          \"tech\",\n          \"politics\"\n        ],\n        \"semantic_type\": \"\",\n        \"description\": \"\"\n      }\n    }\n  ]\n}"
            }
          },
          "metadata": {},
          "execution_count": 160
        }
      ]
    },
    {
      "cell_type": "code",
      "source": [
        "inputs=df['text']\n",
        "labels=df['labels']"
      ],
      "metadata": {
        "id": "JRJULqR2-zw8"
      },
      "execution_count": 161,
      "outputs": []
    },
    {
      "cell_type": "code",
      "source": [
        "labels.hist(figsize=(10,5));"
      ],
      "metadata": {
        "colab": {
          "base_uri": "https://localhost:8080/",
          "height": 349
        },
        "id": "XhXQHrvD_TEo",
        "outputId": "3bc8fb86-b4f9-4b6b-d24f-83fb5e4f3ecd"
      },
      "execution_count": 162,
      "outputs": [
        {
          "output_type": "display_data",
          "data": {
            "text/plain": [
              "<Figure size 1000x500 with 1 Axes>"
            ],
            "image/png": "[encoded data removed]"
          },
          "metadata": {}
        }
      ]
    },
    {
      "cell_type": "code",
      "source": [
        "inputs_train,inputs_test,Ytrain,Ytest=train_test_split(inputs,labels,random_state=123)"
      ],
      "metadata": {
        "id": "lLxDp3Js_08M"
      },
      "execution_count": 163,
      "outputs": []
    },
    {
      "cell_type": "code",
      "source": [
        "vectorizer=CountVectorizer()\n",
        "Xtrain = vectorizer.fit_transform(inputs_train)\n",
        "Xtest = vectorizer.transform(inputs_test) #Transform for the inputs_test we shoouldnt fit on the test data"
      ],
      "metadata": {
        "id": "oVCTmdRpA74U"
      },
      "execution_count": 164,
      "outputs": []
    },
    {
      "cell_type": "code",
      "source": [
        "Xtrain"
      ],
      "metadata": {
        "colab": {
          "base_uri": "https://localhost:8080/"
        },
        "id": "SI85GteQGk7b",
        "outputId": "7712834e-3d44-4527-d299-fed7fc2c5a62"
      },
      "execution_count": 165,
      "outputs": [
        {
          "output_type": "execute_result",
          "data": {
            "text/plain": [
              "<1668x26287 sparse matrix of type '<class 'numpy.int64'>'\n",
              "\twith 337411 stored elements in Compressed Sparse Row format>"
            ]
          },
          "metadata": {},
          "execution_count": 165
        }
      ]
    },
    {
      "cell_type": "code",
      "source": [
        "(Xtrain != 0).sum()"
      ],
      "metadata": {
        "colab": {
          "base_uri": "https://localhost:8080/"
        },
        "id": "5apA3-WqFTOp",
        "outputId": "fee03210-a7eb-474b-f7ac-64872a81dc19"
      },
      "execution_count": 166,
      "outputs": [
        {
          "output_type": "execute_result",
          "data": {
            "text/plain": [
              "337411"
            ]
          },
          "metadata": {},
          "execution_count": 166
        }
      ]
    },
    {
      "cell_type": "code",
      "source": [
        "(Xtrain!=0).sum() / np.prod(Xtrain.shape)"
      ],
      "metadata": {
        "colab": {
          "base_uri": "https://localhost:8080/"
        },
        "id": "hUfm6KNxFW4c",
        "outputId": "d6ec0fb1-ea47-4136-cf7d-f0ca26eb8002"
      },
      "execution_count": 167,
      "outputs": [
        {
          "output_type": "execute_result",
          "data": {
            "text/plain": [
              "0.007695239935415004"
            ]
          },
          "metadata": {},
          "execution_count": 167
        }
      ]
    },
    {
      "cell_type": "code",
      "source": [
        "model=MultinomialNB()\n",
        "model.fit(Xtrain,Ytrain)\n",
        "print(\"train score:\",model.score(Xtrain,Ytrain))\n",
        "print(\"test score:\",model.score(Xtest,Ytest))\n"
      ],
      "metadata": {
        "colab": {
          "base_uri": "https://localhost:8080/"
        },
        "id": "czCx2uv4Kn-B",
        "outputId": "bcf43bc6-6674-4f1e-8654-64e0498fbc8c"
      },
      "execution_count": 168,
      "outputs": [
        {
          "output_type": "stream",
          "name": "stdout",
          "text": [
            "train score: 0.9922062350119905\n",
            "test score: 0.9712746858168761\n"
          ]
        }
      ]
    },
    {
      "cell_type": "code",
      "source": [
        "# Predicting the labels for the test set\n",
        "y_pred = model.predict(Xtest)\n",
        "\n",
        "# Comparing predictions with actual labels\n",
        "accuracy = (y_pred == Ytest).mean()  # Manually calculate accuracy\n",
        "print(accuracy)\n"
      ],
      "metadata": {
        "colab": {
          "base_uri": "https://localhost:8080/"
        },
        "id": "TYJwBRSDLezM",
        "outputId": "f0ec0b29-1202-4b5a-9c38-73a529d5cb36"
      },
      "execution_count": 169,
      "outputs": [
        {
          "output_type": "stream",
          "name": "stdout",
          "text": [
            "0.9712746858168761\n"
          ]
        }
      ]
    },
    {
      "cell_type": "code",
      "source": [
        "#with stop words\n",
        "vectorizer=CountVectorizer(stop_words=\"english\")\n",
        "Xtrain = vectorizer.fit_transform(inputs_train)\n",
        "Xtest = vectorizer.transform(inputs_test)\n",
        "model = MultinomialNB()\n",
        "model.fit(Xtrain, Ytrain)\n",
        "print(\"train score:\", model.score(Xtrain, Ytrain))\n",
        "print(\"test score:\", model.score(Xtest, Ytest))\n"
      ],
      "metadata": {
        "colab": {
          "base_uri": "https://localhost:8080/"
        },
        "id": "Cw00zey8MXmN",
        "outputId": "ac6581cc-ea0b-4214-9306-7fa4b980d930"
      },
      "execution_count": 170,
      "outputs": [
        {
          "output_type": "stream",
          "name": "stdout",
          "text": [
            "train score: 0.9928057553956835\n",
            "test score: 0.9766606822262118\n"
          ]
        }
      ]
    },
    {
      "cell_type": "code",
      "source": [
        "def get_wordnet_pos(treebank_tag):\n",
        "  if treebank_tag.startswith('J'):\n",
        "    return wordnet.ADJ\n",
        "  elif treebank_tag.startswith('V'):\n",
        "    return wordnet.VERB\n",
        "  elif treebank_tag.startswith('N'):\n",
        "    return wordnet.NOUN\n",
        "  elif treebank_tag.startswith('R'):\n",
        "    return wordnet.ADV\n",
        "  else:\n",
        "    return wordnet.NOUN"
      ],
      "metadata": {
        "id": "5AmvAv9pNT7m"
      },
      "execution_count": 171,
      "outputs": []
    },
    {
      "cell_type": "code",
      "source": [
        "from nltk.stem import WordNetLemmatizer\n",
        "from nltk.tokenize import word_tokenize\n",
        "\n",
        "class LemmaTokenizer:\n",
        "    def __init__(self):\n",
        "        self.lemmatizer = WordNetLemmatizer()\n",
        "\n",
        "    def __call__(self, doc):\n",
        "        return [self.lemmatizer.lemmatize(word) for word in word_tokenize(doc)]\n"
      ],
      "metadata": {
        "id": "FPoaslLqNZoN"
      },
      "execution_count": 172,
      "outputs": []
    },
    {
      "cell_type": "code",
      "source": [
        "import nltk\n",
        "nltk.download('punkt')  # This is the correct resource needed for tokenization\n",
        "nltk.download('wordnet')  # Required for lemmatization\n",
        "nltk.download('omw-1.4')  # Optional but improves lemmatization\n"
      ],
      "metadata": {
        "colab": {
          "base_uri": "https://localhost:8080/"
        },
        "id": "6ZE48NrRNv8q",
        "outputId": "97201b32-0efe-4f96-8c69-9e8b73acaa0a"
      },
      "execution_count": 173,
      "outputs": [
        {
          "output_type": "stream",
          "name": "stderr",
          "text": [
            "[nltk_data] Downloading package punkt to /root/nltk_data...\n",
            "[nltk_data]   Package punkt is already up-to-date!\n",
            "[nltk_data] Downloading package wordnet to /root/nltk_data...\n",
            "[nltk_data]   Package wordnet is already up-to-date!\n",
            "[nltk_data] Downloading package omw-1.4 to /root/nltk_data...\n",
            "[nltk_data]   Package omw-1.4 is already up-to-date!\n"
          ]
        },
        {
          "output_type": "execute_result",
          "data": {
            "text/plain": [
              "True"
            ]
          },
          "metadata": {},
          "execution_count": 173
        }
      ]
    },
    {
      "cell_type": "code",
      "source": [
        "import nltk\n",
        "print(nltk.data.path)"
      ],
      "metadata": {
        "colab": {
          "base_uri": "https://localhost:8080/"
        },
        "id": "4yKxqy4EOa-e",
        "outputId": "c82caff1-3591-4e51-d100-1680aabde6e9"
      },
      "execution_count": 174,
      "outputs": [
        {
          "output_type": "stream",
          "name": "stdout",
          "text": [
            "['/root/nltk_data', '/usr/nltk_data', '/usr/share/nltk_data', '/usr/lib/nltk_data', '/usr/share/nltk_data', '/usr/local/share/nltk_data', '/usr/lib/nltk_data', '/usr/local/lib/nltk_data']\n"
          ]
        }
      ]
    },
    {
      "cell_type": "code",
      "source": [
        "nltk.download('punkt', download_dir='/root/nltk_data')\n"
      ],
      "metadata": {
        "id": "PRr0NDjvOhKu",
        "outputId": "5415acc5-c03d-4cb9-ef46-7da7ad4a0a7a",
        "colab": {
          "base_uri": "https://localhost:8080/"
        }
      },
      "execution_count": 175,
      "outputs": [
        {
          "output_type": "stream",
          "name": "stderr",
          "text": [
            "[nltk_data] Downloading package punkt to /root/nltk_data...\n",
            "[nltk_data]   Package punkt is already up-to-date!\n"
          ]
        },
        {
          "output_type": "execute_result",
          "data": {
            "text/plain": [
              "True"
            ]
          },
          "metadata": {},
          "execution_count": 175
        }
      ]
    },
    {
      "cell_type": "markdown",
      "source": [
        "*In the context of NLP (Natural Language Processing), distance and similarity are two ways of quantifying how close or how alike two text items (such as words, sentences, or documents) are to each other, but they are expressed in opposite terms.*\n",
        "\n",
        "Distance:\n",
        "Definition: Distance measures how different or far apart two items are in a vector space (such as word embeddings or feature vectors). The greater the distance, the more different the items are.\n",
        "Common Measures:\n",
        "Euclidean distance: Measures the straight-line distance between two points in space.\n",
        "Manhattan distance: Measures the distance if you travel along the grid lines (like streets in a city).\n",
        "Cosine distance: The cosine of the angle between two vectors, used when working with text embeddings or word vectors.\n",
        "Interpretation: A higher value indicates that the two items are more dissimilar.\n",
        "Similarity:\n",
        "Definition: Similarity measures how alike two items are. It’s often the inverse of distance – the closer the items, the more similar they are.\n",
        "Common Measures:\n",
        "Cosine similarity: Measures the cosine of the angle between two vectors. It ranges from -1 (completely opposite) to 1 (completely similar).\n",
        "Jaccard similarity: Measures the similarity between two sets by comparing their intersection to their union.\n",
        "Pearson correlation: Measures the linear correlation between two vectors.\n",
        "Interpretation: A higher value indicates that the two items are more similar.\n",
        "In summary:\n",
        "\n",
        "Distance gives a numerical value that quantifies how far apart two items are in the vector space.\n",
        "Similarity gives a numerical value that quantifies how close or similar two items are."
      ],
      "metadata": {
        "id": "-rcLg0yOSD69"
      }
    },
    {
      "cell_type": "markdown",
      "source": [
        "The CountVectorizer in NLP creates a bag-of-words model, where it simply counts the frequency of each word in a document or a set of documents. While this method can give you basic information, it has some limitations:\n",
        "\n",
        "Ignoring Word Order: As you mentioned, CountVectorizer doesn't consider the order of words, which can be a significant problem, especially in contexts where word order matters (e.g., in sentence meaning).\n",
        "Term Frequency (TF): CountVectorizer is highly sensitive to frequently occurring words, which may not necessarily be important for the document's meaning. Common words (like \"the\", \"and\", \"is\") appear frequently but don’t carry much value in distinguishing documents.\n",
        "TF-IDF: Solution to the Problem\n",
        "TF-IDF (Term Frequency-Inverse Document Frequency) is a technique that addresses some of the issues with CountVectorizer. It focuses on assigning weights to words, emphasizing words that are important for a given document relative to the entire corpus, and downplaying common words that appear in many documents."
      ],
      "metadata": {
        "id": "rSfySSs2WsMI"
      }
    },
    {
      "cell_type": "markdown",
      "source": [
        "The Formula:\n",
        "TF-IDF\n",
        "(\n",
        "𝑡\n",
        ",\n",
        "𝑑\n",
        ")\n",
        "=\n",
        "TF\n",
        "(\n",
        "𝑡\n",
        ",\n",
        "𝑑\n",
        ")\n",
        "×\n",
        "IDF\n",
        "(\n",
        "𝑡\n",
        ")\n",
        "TF-IDF(t,d)=TF(t,d)×IDF(t)\n",
        "Where:\n",
        "\n",
        "TF(t, d) = Term Frequency: The number of times term\n",
        "𝑡\n",
        "t appears in document\n",
        "𝑑\n",
        "d, divided by the total number of terms in document\n",
        "𝑑\n",
        "d.\n",
        "IDF(t) = Inverse Document Frequency: A measure of how unique the term\n",
        "𝑡\n",
        "t is across the entire corpus of documents.\n",
        "Example:\n",
        "Let’s say we have the following 3 documents in a small corpus:\n",
        "\n",
        "Document 1: \"The cat sat on the mat.\"\n",
        "Document 2: \"The dog sat on the mat.\"\n",
        "Document 3: \"The cat and dog played in the park.\"\n",
        "Now, let’s compute the TF-IDF for the term \"cat\" in Document 1.\n",
        "\n",
        "Step 1: Calculate Term Frequency (TF)\n",
        "The formula for TF is:\n",
        "\n",
        "TF\n",
        "(\n",
        "𝑡\n",
        ",\n",
        "𝑑\n",
        ")\n",
        "=\n",
        "Frequency of term\n",
        "𝑡\n",
        " in document\n",
        "𝑑\n",
        "Total number of terms in document\n",
        "𝑑\n",
        "TF(t,d)=\n",
        "Total number of terms in document d\n",
        "Frequency of term t in document d\n",
        "​\n",
        "\n",
        "In Document 1:\n",
        "\n",
        "The term \"cat\" appears once.\n",
        "The total number of words in the document is 6 (\"The\", \"cat\", \"sat\", \"on\", \"the\", \"mat\").\n",
        "So,\n",
        "\n",
        "TF\n",
        "(\n",
        "cat\n",
        ",\n",
        "Document 1\n",
        ")\n",
        "=\n",
        "1\n",
        "6\n",
        "≈\n",
        "0.167\n",
        "TF(cat,Document 1)=\n",
        "6\n",
        "1\n",
        "​\n",
        " ≈0.167\n",
        "Step 2: Calculate Inverse Document Frequency (IDF)\n",
        "The formula for IDF is:\n",
        "\n",
        "IDF\n",
        "(\n",
        "𝑡\n",
        ")\n",
        "=\n",
        "log\n",
        "⁡\n",
        "(\n",
        "𝑁\n",
        "DF\n",
        "(\n",
        "𝑡\n",
        ")\n",
        ")\n",
        "IDF(t)=log(\n",
        "DF(t)\n",
        "N\n",
        "​\n",
        " )\n",
        "Where:\n",
        "\n",
        "𝑁\n",
        "N is the total number of documents in the corpus (in this case, 3).\n",
        "DF(t) is the number of documents containing the term\n",
        "𝑡\n",
        "t.\n",
        "For the term \"cat\":\n",
        "\n",
        "The term \"cat\" appears in 2 documents (\"Document 1\" and \"Document 3\").\n",
        "So, DF(cat) = 2.\n",
        "Now, we compute the IDF for \"cat\":\n",
        "\n",
        "IDF\n",
        "(\n",
        "cat\n",
        ")\n",
        "=\n",
        "log\n",
        "⁡\n",
        "(\n",
        "3\n",
        "2\n",
        ")\n",
        "≈\n",
        "log\n",
        "⁡\n",
        "(\n",
        "1.5\n",
        ")\n",
        "≈\n",
        "0.176\n",
        "IDF(cat)=log(\n",
        "2\n",
        "3\n",
        "​\n",
        " )≈log(1.5)≈0.176\n",
        "Step 3: Calculate TF-IDF\n",
        "Now that we have both TF and IDF, we can calculate the TF-IDF for the term \"cat\" in Document 1:\n",
        "\n",
        "TF-IDF\n",
        "(\n",
        "cat\n",
        ",\n",
        "Document 1\n",
        ")\n",
        "=\n",
        "TF\n",
        "(\n",
        "cat\n",
        ",\n",
        "Document 1\n",
        ")\n",
        "×\n",
        "IDF\n",
        "(\n",
        "cat\n",
        ")\n",
        "TF-IDF(cat,Document 1)=TF(cat,Document 1)×IDF(cat)\n",
        "Substituting the values we calculated:\n",
        "\n",
        "TF-IDF\n",
        "(\n",
        "cat\n",
        ",\n",
        "Document 1\n",
        ")\n",
        "=\n",
        "0.167\n",
        "×\n",
        "0.176\n",
        "≈\n",
        "0.0294\n",
        "TF-IDF(cat,Document 1)=0.167×0.176≈0.0294"
      ],
      "metadata": {
        "id": "vxqzG3ukeZZh"
      }
    },
    {
      "cell_type": "code",
      "source": [
        "from sklearn.feature_extraction.text import TfidfVectorizer\n",
        "\n",
        "# Sample documents (sentences)\n",
        "documents = [\n",
        "    \"The cat sat on the mat.\",\n",
        "    \"The dog sat on the mat.\",\n",
        "    \"The cat and the dog played in the park.\"\n",
        "]\n",
        "\n",
        "vectorizer = TfidfVectorizer()\n",
        "\n",
        "tfidf_matrix=vectorizer.fit_transform(documents)\n",
        "\n",
        "import pandas as pd\n",
        "tfidf_df=pd.DataFrame(tfidf_matrix.toarray(),columns=vectorizer.get_feature_names_out())\n",
        "print(tfidf_df)"
      ],
      "metadata": {
        "colab": {
          "base_uri": "https://localhost:8080/"
        },
        "id": "ysQvh4Onfax9",
        "outputId": "d8b68ef8-f1b6-4165-f56d-3c3b0c8bf2df"
      },
      "execution_count": 176,
      "outputs": [
        {
          "output_type": "stream",
          "name": "stdout",
          "text": [
            "        and       cat       dog        in       mat        on      park  \\\n",
            "0  0.000000  0.394903  0.000000  0.000000  0.394903  0.394903  0.000000   \n",
            "1  0.000000  0.000000  0.394903  0.000000  0.394903  0.394903  0.000000   \n",
            "2  0.347184  0.264042  0.264042  0.347184  0.000000  0.000000  0.347184   \n",
            "\n",
            "     played       sat       the  \n",
            "0  0.000000  0.394903  0.613356  \n",
            "1  0.000000  0.394903  0.613356  \n",
            "2  0.347184  0.000000  0.615157  \n"
          ]
        }
      ]
    },
    {
      "cell_type": "code",
      "source": [
        "tfidf_matrix"
      ],
      "metadata": {
        "colab": {
          "base_uri": "https://localhost:8080/"
        },
        "id": "ewyXvijYgAis",
        "outputId": "a178f46c-1cc2-4660-9645-1c4818b1ea0d"
      },
      "execution_count": 177,
      "outputs": [
        {
          "output_type": "execute_result",
          "data": {
            "text/plain": [
              "<3x10 sparse matrix of type '<class 'numpy.float64'>'\n",
              "\twith 17 stored elements in Compressed Sparse Row format>"
            ]
          },
          "metadata": {},
          "execution_count": 177
        }
      ]
    },
    {
      "cell_type": "code",
      "source": [],
      "metadata": {
        "id": "MBYeycaTgHLf"
      },
      "execution_count": null,
      "outputs": []
    }
  ]
}