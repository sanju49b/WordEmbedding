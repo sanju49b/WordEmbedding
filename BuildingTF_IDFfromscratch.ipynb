{
  "nbformat": 4,
  "nbformat_minor": 0,
  "metadata": {
    "colab": {
      "provenance": []
    },
    "kernelspec": {
      "name": "python3",
      "display_name": "Python 3"
    },
    "language_info": {
      "name": "python"
    }
  },
  "cells": [
    {
      "cell_type": "code",
      "source": [
        "# https://www.kaggle.com/shivamkushwaha/bbc-full-text-document-classification\n",
        "!wget -nc https://lazyprogrammer.me/course_files/nlp/bbc_text_cls.csv"
      ],
      "metadata": {
        "id": "EjgX8bxl55V1",
        "colab": {
          "base_uri": "https://localhost:8080/"
        },
        "outputId": "588aac4c-a9d6-4627-ca18-8df3b8352591"
      },
      "execution_count": 3,
      "outputs": [
        {
          "output_type": "stream",
          "name": "stdout",
          "text": [
            "File ‘bbc_text_cls.csv’ already there; not retrieving.\n",
            "\n"
          ]
        }
      ]
    },
    {
      "cell_type": "code",
      "source": [
        "# there are 3 important steps to implement the TF-IDF FROM SCARTCH:\n",
        "#1. Word to Index\n",
        "#2. CountVectorizer\n",
        "#3. TF-IDF\n",
        "\n",
        "# these 3 are the most important things while implementing the TF-IDF from scartch\n"
      ],
      "metadata": {
        "id": "0sOUsvFWf7jO"
      },
      "execution_count": 4,
      "outputs": []
    },
    {
      "cell_type": "code",
      "source": [
        "import pandas as pd\n",
        "import numpy as np\n",
        "import nltk\n",
        "from nltk import word_tokenize\n",
        "nltk.download('punkt')\n",
        "nltk.download('punkt_tab')"
      ],
      "metadata": {
        "colab": {
          "base_uri": "https://localhost:8080/"
        },
        "id": "2L0roGvyghgh",
        "outputId": "6912efae-6ed8-46a7-b313-af192e660c52"
      },
      "execution_count": 5,
      "outputs": [
        {
          "output_type": "stream",
          "name": "stderr",
          "text": [
            "[nltk_data] Downloading package punkt to /root/nltk_data...\n",
            "[nltk_data]   Package punkt is already up-to-date!\n",
            "[nltk_data] Downloading package punkt_tab to /root/nltk_data...\n",
            "[nltk_data]   Package punkt_tab is already up-to-date!\n"
          ]
        },
        {
          "output_type": "execute_result",
          "data": {
            "text/plain": [
              "True"
            ]
          },
          "metadata": {},
          "execution_count": 5
        }
      ]
    },
    {
      "cell_type": "code",
      "source": [
        "df = pd.read_csv('bbc_text_cls.csv')\n",
        "df.head()"
      ],
      "metadata": {
        "colab": {
          "base_uri": "https://localhost:8080/",
          "height": 206
        },
        "id": "Hy7WDI1YhDoo",
        "outputId": "f6cbdd3a-80a0-4803-8487-9129bc02839c"
      },
      "execution_count": 6,
      "outputs": [
        {
          "output_type": "execute_result",
          "data": {
            "text/plain": [
              "                                                text    labels\n",
              "0  Ad sales boost Time Warner profit\\n\\nQuarterly...  business\n",
              "1  Dollar gains on Greenspan speech\\n\\nThe dollar...  business\n",
              "2  Yukos unit buyer faces loan claim\\n\\nThe owner...  business\n",
              "3  High fuel prices hit BA's profits\\n\\nBritish A...  business\n",
              "4  Pernod takeover talk lifts Domecq\\n\\nShares in...  business"
            ],
            "text/html": [
              "\n",
              "  <div id=\"df-f1aec9e3-c7c7-402d-8dda-3ccbfa11760d\" class=\"colab-df-container\">\n",
              "    <div>\n",
              "<style scoped>\n",
              "    .dataframe tbody tr th:only-of-type {\n",
              "        vertical-align: middle;\n",
              "    }\n",
              "\n",
              "    .dataframe tbody tr th {\n",
              "        vertical-align: top;\n",
              "    }\n",
              "\n",
              "    .dataframe thead th {\n",
              "        text-align: right;\n",
              "    }\n",
              "</style>\n",
              "<table border=\"1\" class=\"dataframe\">\n",
              "  <thead>\n",
              "    <tr style=\"text-align: right;\">\n",
              "      <th></th>\n",
              "      <th>text</th>\n",
              "      <th>labels</th>\n",
              "    </tr>\n",
              "  </thead>\n",
              "  <tbody>\n",
              "    <tr>\n",
              "      <th>0</th>\n",
              "      <td>Ad sales boost Time Warner profit\\n\\nQuarterly...</td>\n",
              "      <td>business</td>\n",
              "    </tr>\n",
              "    <tr>\n",
              "      <th>1</th>\n",
              "      <td>Dollar gains on Greenspan speech\\n\\nThe dollar...</td>\n",
              "      <td>business</td>\n",
              "    </tr>\n",
              "    <tr>\n",
              "      <th>2</th>\n",
              "      <td>Yukos unit buyer faces loan claim\\n\\nThe owner...</td>\n",
              "      <td>business</td>\n",
              "    </tr>\n",
              "    <tr>\n",
              "      <th>3</th>\n",
              "      <td>High fuel prices hit BA's profits\\n\\nBritish A...</td>\n",
              "      <td>business</td>\n",
              "    </tr>\n",
              "    <tr>\n",
              "      <th>4</th>\n",
              "      <td>Pernod takeover talk lifts Domecq\\n\\nShares in...</td>\n",
              "      <td>business</td>\n",
              "    </tr>\n",
              "  </tbody>\n",
              "</table>\n",
              "</div>\n",
              "    <div class=\"colab-df-buttons\">\n",
              "\n",
              "  <div class=\"colab-df-container\">\n",
              "    <button class=\"colab-df-convert\" onclick=\"convertToInteractive('df-f1aec9e3-c7c7-402d-8dda-3ccbfa11760d')\"\n",
              "            title=\"Convert this dataframe to an interactive table.\"\n",
              "            style=\"display:none;\">\n",
              "\n",
              "  <svg xmlns=\"http://www.w3.org/2000/svg\" height=\"24px\" viewBox=\"0 -960 960 960\">\n",
              "    <path d=\"M120-120v-720h720v720H120Zm60-500h600v-160H180v160Zm220 220h160v-160H400v160Zm0 220h160v-160H400v160ZM180-400h160v-160H180v160Zm440 0h160v-160H620v160ZM180-180h160v-160H180v160Zm440 0h160v-160H620v160Z\"/>\n",
              "  </svg>\n",
              "    </button>\n",
              "\n",
              "  <style>\n",
              "    .colab-df-container {\n",
              "      display:flex;\n",
              "      gap: 12px;\n",
              "    }\n",
              "\n",
              "    .colab-df-convert {\n",
              "      background-color: #E8F0FE;\n",
              "      border: none;\n",
              "      border-radius: 50%;\n",
              "      cursor: pointer;\n",
              "      display: none;\n",
              "      fill: #1967D2;\n",
              "      height: 32px;\n",
              "      padding: 0 0 0 0;\n",
              "      width: 32px;\n",
              "    }\n",
              "\n",
              "    .colab-df-convert:hover {\n",
              "      background-color: #E2EBFA;\n",
              "      box-shadow: 0px 1px 2px rgba(60, 64, 67, 0.3), 0px 1px 3px 1px rgba(60, 64, 67, 0.15);\n",
              "      fill: #174EA6;\n",
              "    }\n",
              "\n",
              "    .colab-df-buttons div {\n",
              "      margin-bottom: 4px;\n",
              "    }\n",
              "\n",
              "    [theme=dark] .colab-df-convert {\n",
              "      background-color: #3B4455;\n",
              "      fill: #D2E3FC;\n",
              "    }\n",
              "\n",
              "    [theme=dark] .colab-df-convert:hover {\n",
              "      background-color: #434B5C;\n",
              "      box-shadow: 0px 1px 3px 1px rgba(0, 0, 0, 0.15);\n",
              "      filter: drop-shadow(0px 1px 2px rgba(0, 0, 0, 0.3));\n",
              "      fill: #FFFFFF;\n",
              "    }\n",
              "  </style>\n",
              "\n",
              "    <script>\n",
              "      const buttonEl =\n",
              "        document.querySelector('#df-f1aec9e3-c7c7-402d-8dda-3ccbfa11760d button.colab-df-convert');\n",
              "      buttonEl.style.display =\n",
              "        google.colab.kernel.accessAllowed ? 'block' : 'none';\n",
              "\n",
              "      async function convertToInteractive(key) {\n",
              "        const element = document.querySelector('#df-f1aec9e3-c7c7-402d-8dda-3ccbfa11760d');\n",
              "        const dataTable =\n",
              "          await google.colab.kernel.invokeFunction('convertToInteractive',\n",
              "                                                    [key], {});\n",
              "        if (!dataTable) return;\n",
              "\n",
              "        const docLinkHtml = 'Like what you see? Visit the ' +\n",
              "          '<a target=\"_blank\" href=https://colab.research.google.com/notebooks/data_table.ipynb>data table notebook</a>'\n",
              "          + ' to learn more about interactive tables.';\n",
              "        element.innerHTML = '';\n",
              "        dataTable['output_type'] = 'display_data';\n",
              "        await google.colab.output.renderOutput(dataTable, element);\n",
              "        const docLink = document.createElement('div');\n",
              "        docLink.innerHTML = docLinkHtml;\n",
              "        element.appendChild(docLink);\n",
              "      }\n",
              "    </script>\n",
              "  </div>\n",
              "\n",
              "\n",
              "<div id=\"df-b92be616-4a89-4ea8-a226-8e57dabca7b1\">\n",
              "  <button class=\"colab-df-quickchart\" onclick=\"quickchart('df-b92be616-4a89-4ea8-a226-8e57dabca7b1')\"\n",
              "            title=\"Suggest charts\"\n",
              "            style=\"display:none;\">\n",
              "\n",
              "<svg xmlns=\"http://www.w3.org/2000/svg\" height=\"24px\"viewBox=\"0 0 24 24\"\n",
              "     width=\"24px\">\n",
              "    <g>\n",
              "        <path d=\"M19 3H5c-1.1 0-2 .9-2 2v14c0 1.1.9 2 2 2h14c1.1 0 2-.9 2-2V5c0-1.1-.9-2-2-2zM9 17H7v-7h2v7zm4 0h-2V7h2v10zm4 0h-2v-4h2v4z\"/>\n",
              "    </g>\n",
              "</svg>\n",
              "  </button>\n",
              "\n",
              "<style>\n",
              "  .colab-df-quickchart {\n",
              "      --bg-color: #E8F0FE;\n",
              "      --fill-color: #1967D2;\n",
              "      --hover-bg-color: #E2EBFA;\n",
              "      --hover-fill-color: #174EA6;\n",
              "      --disabled-fill-color: #AAA;\n",
              "      --disabled-bg-color: #DDD;\n",
              "  }\n",
              "\n",
              "  [theme=dark] .colab-df-quickchart {\n",
              "      --bg-color: #3B4455;\n",
              "      --fill-color: #D2E3FC;\n",
              "      --hover-bg-color: #434B5C;\n",
              "      --hover-fill-color: #FFFFFF;\n",
              "      --disabled-bg-color: #3B4455;\n",
              "      --disabled-fill-color: #666;\n",
              "  }\n",
              "\n",
              "  .colab-df-quickchart {\n",
              "    background-color: var(--bg-color);\n",
              "    border: none;\n",
              "    border-radius: 50%;\n",
              "    cursor: pointer;\n",
              "    display: none;\n",
              "    fill: var(--fill-color);\n",
              "    height: 32px;\n",
              "    padding: 0;\n",
              "    width: 32px;\n",
              "  }\n",
              "\n",
              "  .colab-df-quickchart:hover {\n",
              "    background-color: var(--hover-bg-color);\n",
              "    box-shadow: 0 1px 2px rgba(60, 64, 67, 0.3), 0 1px 3px 1px rgba(60, 64, 67, 0.15);\n",
              "    fill: var(--button-hover-fill-color);\n",
              "  }\n",
              "\n",
              "  .colab-df-quickchart-complete:disabled,\n",
              "  .colab-df-quickchart-complete:disabled:hover {\n",
              "    background-color: var(--disabled-bg-color);\n",
              "    fill: var(--disabled-fill-color);\n",
              "    box-shadow: none;\n",
              "  }\n",
              "\n",
              "  .colab-df-spinner {\n",
              "    border: 2px solid var(--fill-color);\n",
              "    border-color: transparent;\n",
              "    border-bottom-color: var(--fill-color);\n",
              "    animation:\n",
              "      spin 1s steps(1) infinite;\n",
              "  }\n",
              "\n",
              "  @keyframes spin {\n",
              "    0% {\n",
              "      border-color: transparent;\n",
              "      border-bottom-color: var(--fill-color);\n",
              "      border-left-color: var(--fill-color);\n",
              "    }\n",
              "    20% {\n",
              "      border-color: transparent;\n",
              "      border-left-color: var(--fill-color);\n",
              "      border-top-color: var(--fill-color);\n",
              "    }\n",
              "    30% {\n",
              "      border-color: transparent;\n",
              "      border-left-color: var(--fill-color);\n",
              "      border-top-color: var(--fill-color);\n",
              "      border-right-color: var(--fill-color);\n",
              "    }\n",
              "    40% {\n",
              "      border-color: transparent;\n",
              "      border-right-color: var(--fill-color);\n",
              "      border-top-color: var(--fill-color);\n",
              "    }\n",
              "    60% {\n",
              "      border-color: transparent;\n",
              "      border-right-color: var(--fill-color);\n",
              "    }\n",
              "    80% {\n",
              "      border-color: transparent;\n",
              "      border-right-color: var(--fill-color);\n",
              "      border-bottom-color: var(--fill-color);\n",
              "    }\n",
              "    90% {\n",
              "      border-color: transparent;\n",
              "      border-bottom-color: var(--fill-color);\n",
              "    }\n",
              "  }\n",
              "</style>\n",
              "\n",
              "  <script>\n",
              "    async function quickchart(key) {\n",
              "      const quickchartButtonEl =\n",
              "        document.querySelector('#' + key + ' button');\n",
              "      quickchartButtonEl.disabled = true;  // To prevent multiple clicks.\n",
              "      quickchartButtonEl.classList.add('colab-df-spinner');\n",
              "      try {\n",
              "        const charts = await google.colab.kernel.invokeFunction(\n",
              "            'suggestCharts', [key], {});\n",
              "      } catch (error) {\n",
              "        console.error('Error during call to suggestCharts:', error);\n",
              "      }\n",
              "      quickchartButtonEl.classList.remove('colab-df-spinner');\n",
              "      quickchartButtonEl.classList.add('colab-df-quickchart-complete');\n",
              "    }\n",
              "    (() => {\n",
              "      let quickchartButtonEl =\n",
              "        document.querySelector('#df-b92be616-4a89-4ea8-a226-8e57dabca7b1 button');\n",
              "      quickchartButtonEl.style.display =\n",
              "        google.colab.kernel.accessAllowed ? 'block' : 'none';\n",
              "    })();\n",
              "  </script>\n",
              "</div>\n",
              "\n",
              "    </div>\n",
              "  </div>\n"
            ],
            "application/vnd.google.colaboratory.intrinsic+json": {
              "type": "dataframe",
              "variable_name": "df",
              "summary": "{\n  \"name\": \"df\",\n  \"rows\": 2225,\n  \"fields\": [\n    {\n      \"column\": \"text\",\n      \"properties\": {\n        \"dtype\": \"string\",\n        \"num_unique_values\": 2127,\n        \"samples\": [\n          \"EU 'too slow' on economic reforms\\n\\nMost EU countries have failed to put in place policies aimed at making Europe the world's most competitive economy by the end of the decade, a report says.\\n\\nThe study, undertaken by the European Commission, sought to assess how far the EU has moved towards meeting its economic targets. In 2000, EU leaders at a summit in Lisbon pledged the European economy would outstrip that of the US by 2010. Their economic targets became known as the Lisbon Agenda. But the Commission report says that, in most EU countries, the pace of economic reform has been too slow, and fulfilling the Lisbon ambitions will be difficult - if not impossible.\\n\\nOnly the UK, Finland, Belgium, Denmark, Ireland and the Netherlands have actually followed up policy recommendations. Among the biggest laggards, according to the report, are Greece and Italy. The Lisbon Agenda set out to increase the number of people employed in Europe by encouraging more older people and women to stay in the workforce. It also set out to raise the amount the private sector spends on research and development, while bringing about greater discipline over public spending and debt levels. Combined with high environmental standards and efforts to level the playing field for businesses throughout the EU, the plan was for Europe to become the world's most dynamic economy by 2010. Next week, the Commission will present revised proposals to meet the Lisbon goals. Many people expect the 2010 target to be quietly dropped.\",\n          \"BBC web search aids odd queries\\n\\nThe BBC's online search engine was used a record amount in 2004, helping with enquires both simple and strange.\\n\\nMore than 277 million enquiries were made, asking for informaton of a wide range of subjects. The most requested search terms of 2004 included games, EastEnders, CBBC, John Peel, Harry Potter and Olympics. But there were many strange enquiries, including: what is a dog?, how do you say basketball? and what is the biggest collection of naval fluff? The search engine works by matching key words typed in to different web pages but many people still type in natural language questions. Here are some of the strangest queries of 2004 - spelling and grammar errors left untouched - and their possible solutions:\\n\\n\\n - How to fold a serviette like an elf's boot? \\n \\n\\n\\n - How do I structure a French letter? \\n \\n\\n\\n - What is better one long vacation each year or several short vacations throughout the year? \\n \\n\\n\\n - What is so special about the Swiss? \\n \\n\\n\\n - What are the contemporary issue in nurses? \\n \\n\\n\\n - What is the number 4 in this number 40052308090? \\n \\n\\n\\n - What is up? \\n \\n\\n\\n - What is the name of James Martin's dog? \\n \\n\\nSearch engines are key to the way people use the internet. Companies such as Google have become of paramount importance as they dictate how people travel through websites while online.\",\n          \"Serena becomes world number two\\n\\nSerena Williams has moved up five places to second in the world rankings after her Australian Open win.\\n\\nWilliams won her first Grand Slam title since 2003 with victory over Lindsay Davenport, the world number one. Men's champion Marat Safin remains fourth in the ATP rankings while beaten finalist Lleyton Hewitt replaces Andy Roddick as world number two. Roger Federer retains top spot, but Safin has overtaken Hewitt to become the new leader of the Champions Race. Alicia Molik, who lost a three-set thriller against Davenport in the quarter-finals, is in the women's top 10 for the first time in her career. Her rise means Australia have a player in the top 10 of the men's and women's rankings for the first time in 21 years. And Britain's Elena Baltacha, who qualified and then reached the third round, has risen to 120 in the world - a leap of 65 places and her highest ranking yet.\"\n        ],\n        \"semantic_type\": \"\",\n        \"description\": \"\"\n      }\n    },\n    {\n      \"column\": \"labels\",\n      \"properties\": {\n        \"dtype\": \"category\",\n        \"num_unique_values\": 5,\n        \"samples\": [\n          \"entertainment\",\n          \"tech\",\n          \"politics\"\n        ],\n        \"semantic_type\": \"\",\n        \"description\": \"\"\n      }\n    }\n  ]\n}"
            }
          },
          "metadata": {},
          "execution_count": 6
        }
      ]
    },
    {
      "cell_type": "code",
      "source": [
        "# populate word2idx\n",
        "# convert documents into sequences of ints / ids / indices\n",
        "idx = 0\n",
        "word2idx = {}\n",
        "tokenized_docs = []\n",
        "for doc in df['text']:\n",
        "  words = word_tokenize(doc.lower())\n",
        "  doc_as_int = []\n",
        "  for word in words:\n",
        "    if word not in word2idx:\n",
        "      word2idx[word] = idx\n",
        "      idx += 1\n",
        "\n",
        "    # save for later\n",
        "    doc_as_int.append(word2idx[word])\n",
        "  tokenized_docs.append(doc_as_int)"
      ],
      "metadata": {
        "id": "wu_q9wt5YRgb"
      },
      "execution_count": 29,
      "outputs": []
    },
    {
      "cell_type": "code",
      "source": [
        "#wordidx=[]\n",
        "#for doc in df['text']:\n",
        "#    words = word_tokenize(doc.lower())  # Tokenize and convert to lowercase\n",
        "#    for word in words:\n",
        "#        if word not in wordidx:  # Avoid duplicates\n",
        "#            wordidx.append(word) #Timecomplexity:0(n) so it would so much of the time"
      ],
      "metadata": {
        "id": "nN6yJ9IchcxG"
      },
      "execution_count": 1,
      "outputs": []
    },
    {
      "cell_type": "code",
      "source": [
        "df['text']"
      ],
      "metadata": {
        "colab": {
          "base_uri": "https://localhost:8080/",
          "height": 458
        },
        "id": "Idn87Pe_ctJv",
        "outputId": "2c668673-b119-49f8-a6a1-8fbaaf21cf75"
      },
      "execution_count": 8,
      "outputs": [
        {
          "output_type": "execute_result",
          "data": {
            "text/plain": [
              "0       Ad sales boost Time Warner profit\\n\\nQuarterly...\n",
              "1       Dollar gains on Greenspan speech\\n\\nThe dollar...\n",
              "2       Yukos unit buyer faces loan claim\\n\\nThe owner...\n",
              "3       High fuel prices hit BA's profits\\n\\nBritish A...\n",
              "4       Pernod takeover talk lifts Domecq\\n\\nShares in...\n",
              "                              ...                        \n",
              "2220    BT program to beat dialler scams\\n\\nBT is intr...\n",
              "2221    Spam e-mails tempt net shoppers\\n\\nComputer us...\n",
              "2222    Be careful how you code\\n\\nA new European dire...\n",
              "2223    US cyber security chief resigns\\n\\nThe man mak...\n",
              "2224    Losing yourself in online gaming\\n\\nOnline rol...\n",
              "Name: text, Length: 2225, dtype: object"
            ],
            "text/html": [
              "<div>\n",
              "<style scoped>\n",
              "    .dataframe tbody tr th:only-of-type {\n",
              "        vertical-align: middle;\n",
              "    }\n",
              "\n",
              "    .dataframe tbody tr th {\n",
              "        vertical-align: top;\n",
              "    }\n",
              "\n",
              "    .dataframe thead th {\n",
              "        text-align: right;\n",
              "    }\n",
              "</style>\n",
              "<table border=\"1\" class=\"dataframe\">\n",
              "  <thead>\n",
              "    <tr style=\"text-align: right;\">\n",
              "      <th></th>\n",
              "      <th>text</th>\n",
              "    </tr>\n",
              "  </thead>\n",
              "  <tbody>\n",
              "    <tr>\n",
              "      <th>0</th>\n",
              "      <td>Ad sales boost Time Warner profit\\n\\nQuarterly...</td>\n",
              "    </tr>\n",
              "    <tr>\n",
              "      <th>1</th>\n",
              "      <td>Dollar gains on Greenspan speech\\n\\nThe dollar...</td>\n",
              "    </tr>\n",
              "    <tr>\n",
              "      <th>2</th>\n",
              "      <td>Yukos unit buyer faces loan claim\\n\\nThe owner...</td>\n",
              "    </tr>\n",
              "    <tr>\n",
              "      <th>3</th>\n",
              "      <td>High fuel prices hit BA's profits\\n\\nBritish A...</td>\n",
              "    </tr>\n",
              "    <tr>\n",
              "      <th>4</th>\n",
              "      <td>Pernod takeover talk lifts Domecq\\n\\nShares in...</td>\n",
              "    </tr>\n",
              "    <tr>\n",
              "      <th>...</th>\n",
              "      <td>...</td>\n",
              "    </tr>\n",
              "    <tr>\n",
              "      <th>2220</th>\n",
              "      <td>BT program to beat dialler scams\\n\\nBT is intr...</td>\n",
              "    </tr>\n",
              "    <tr>\n",
              "      <th>2221</th>\n",
              "      <td>Spam e-mails tempt net shoppers\\n\\nComputer us...</td>\n",
              "    </tr>\n",
              "    <tr>\n",
              "      <th>2222</th>\n",
              "      <td>Be careful how you code\\n\\nA new European dire...</td>\n",
              "    </tr>\n",
              "    <tr>\n",
              "      <th>2223</th>\n",
              "      <td>US cyber security chief resigns\\n\\nThe man mak...</td>\n",
              "    </tr>\n",
              "    <tr>\n",
              "      <th>2224</th>\n",
              "      <td>Losing yourself in online gaming\\n\\nOnline rol...</td>\n",
              "    </tr>\n",
              "  </tbody>\n",
              "</table>\n",
              "<p>2225 rows × 1 columns</p>\n",
              "</div><br><label><b>dtype:</b> object</label>"
            ]
          },
          "metadata": {},
          "execution_count": 8
        }
      ]
    },
    {
      "cell_type": "code",
      "source": [
        "len(tokenized_docs)"
      ],
      "metadata": {
        "colab": {
          "base_uri": "https://localhost:8080/"
        },
        "id": "xGLRlnPjdOsI",
        "outputId": "e1e83057-9ec5-43ee-e803-bb9d7a609123"
      },
      "execution_count": 18,
      "outputs": [
        {
          "output_type": "execute_result",
          "data": {
            "text/plain": [
              "974126"
            ]
          },
          "metadata": {},
          "execution_count": 18
        }
      ]
    },
    {
      "cell_type": "code",
      "source": [
        "idx"
      ],
      "metadata": {
        "colab": {
          "base_uri": "https://localhost:8080/"
        },
        "id": "c9QgVVR4dSjh",
        "outputId": "67bf26d6-7113-4282-8910-fc2bbf4e5adf"
      },
      "execution_count": 19,
      "outputs": [
        {
          "output_type": "execute_result",
          "data": {
            "text/plain": [
              "34613"
            ]
          },
          "metadata": {},
          "execution_count": 19
        }
      ]
    },
    {
      "cell_type": "code",
      "source": [
        "#reverese mapping\n",
        "idx2word={v:k for k,v in word2idx.items()}"
      ],
      "metadata": {
        "id": "LUJgn4E_dWny"
      },
      "execution_count": 9,
      "outputs": []
    },
    {
      "cell_type": "code",
      "source": [
        "word2idx[\"dollar\"]"
      ],
      "metadata": {
        "colab": {
          "base_uri": "https://localhost:8080/"
        },
        "id": "Gn0DW3dFg_A4",
        "outputId": "85b4b29a-94b0-4a08-aa80-8179695ee001"
      },
      "execution_count": 10,
      "outputs": [
        {
          "output_type": "execute_result",
          "data": {
            "text/plain": [
              "235"
            ]
          },
          "metadata": {},
          "execution_count": 10
        }
      ]
    },
    {
      "cell_type": "code",
      "source": [
        "idx2word[235]"
      ],
      "metadata": {
        "colab": {
          "base_uri": "https://localhost:8080/",
          "height": 36
        },
        "id": "zIbNJms3hARI",
        "outputId": "85f904e6-095d-4861-83e9-cc1544604c79"
      },
      "execution_count": 11,
      "outputs": [
        {
          "output_type": "execute_result",
          "data": {
            "text/plain": [
              "'dollar'"
            ],
            "application/vnd.google.colaboratory.intrinsic+json": {
              "type": "string"
            }
          },
          "metadata": {},
          "execution_count": 11
        }
      ]
    },
    {
      "cell_type": "code",
      "source": [
        "#we are simply replacing the values from words to indexes to index to words"
      ],
      "metadata": {
        "id": "Ieow9o65hNHY"
      },
      "execution_count": 28,
      "outputs": []
    },
    {
      "cell_type": "code",
      "source": [
        "# number of documents\n",
        "N = len(df['text'])\n",
        "# number of words\n",
        "V = len(word2idx)\n",
        "# instantiate term-frequency matrix\n",
        "# note: could have also used count vectorizer\n",
        "tf = np.zeros((N, V))\n",
        "# populate term-frequency counts\n",
        "for i, doc_as_int in enumerate(tokenized_docs):\n",
        "  for j in doc_as_int:\n",
        "    tf[i, j] += 1"
      ],
      "metadata": {
        "id": "azGiRtomhVKF"
      },
      "execution_count": 30,
      "outputs": []
    },
    {
      "cell_type": "code",
      "source": [
        "# compute IDF\n",
        "document_freq = np.sum(tf > 0, axis=0) # document frequency (shape = (V,))\n",
        "idf = np.log(N / document_freq)"
      ],
      "metadata": {
        "id": "kpHINkFzkZ_X"
      },
      "execution_count": 32,
      "outputs": []
    },
    {
      "cell_type": "code",
      "source": [
        "tf_idf= tf * idf"
      ],
      "metadata": {
        "id": "RF1h5F5Il8We"
      },
      "execution_count": 34,
      "outputs": []
    },
    {
      "cell_type": "code",
      "source": [
        "np.random.seed(123)"
      ],
      "metadata": {
        "id": "FEsKYSRalrIE"
      },
      "execution_count": 38,
      "outputs": []
    },
    {
      "cell_type": "code",
      "source": [
        "\n",
        "#Pick a radom document show the top 5 terms in the document (in terms of tf-idf)\n",
        "i=np.random.choice(N)\n",
        "row=df.iloc[i]\n",
        "print(\"label:\",row['labels'])\n",
        "print(\"text:\",row['text'].split(\"\\n\",1)[0])\n",
        "print(\"Top 5 Terms\")\n",
        "\n",
        "scores= tf_idf[i]\n",
        "indices=(-scores).argsort()\n",
        "\n",
        "for j in indices[:5]:\n",
        "  print(idx2word[j])"
      ],
      "metadata": {
        "id": "TSuJ-oSBme4C",
        "outputId": "ca3a247d-9f10-485f-a1fe-fd8945fff2ad",
        "colab": {
          "base_uri": "https://localhost:8080/"
        }
      },
      "execution_count": 39,
      "outputs": [
        {
          "output_type": "stream",
          "name": "stdout",
          "text": [
            "label: sport\n",
            "text: Athens memories soar above lows\n",
            "Top 5 Terms\n",
            "paula\n",
            "athens\n",
            "1500m\n",
            "her\n",
            "kelly\n"
          ]
        }
      ]
    },
    {
      "cell_type": "code",
      "source": [],
      "metadata": {
        "id": "y0-N9zgEnN1W"
      },
      "execution_count": null,
      "outputs": []
    }
  ]
}